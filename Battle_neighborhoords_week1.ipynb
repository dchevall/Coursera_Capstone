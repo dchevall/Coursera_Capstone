{
 "cells": [
  {
   "cell_type": "markdown",
   "metadata": {},
   "source": [
    "# The battle of the Neighborhoods Week 1"
   ]
  },
  {
   "cell_type": "markdown",
   "metadata": {},
   "source": [
    "## Introduction/Business problem"
   ]
  },
  {
   "cell_type": "markdown",
   "metadata": {},
   "source": [
    "The city of Marseille in the south of France is one of the most popular French city for the visitors from all around the world. The city offers a large choice of activities: sea, cruise, mountain, hiking, biking, many small typical villages around to visit. On top of that, the bars and restaurants are presents everywhere around from Michelin starred restaurant to fast food including a huge variety of cuisine from all around the world.\n",
    "\n",
    "The city is already well developed regarding tourism. Hotel are presents in mass mostly in the city center. However, many activities are located in the suburb or outside the city. The situation is not ideal because the tourists have to book an hotel in the city center and commute outside the city to the desired place everyday which can be extremely chaotic. In this project, we want to study the perfect location to open a new hotel in the suburb with bars/restaurants around to easily go outside the city for activities and thus avoiding loosing time in the traffic jam. \n"
   ]
  },
  {
   "cell_type": "markdown",
   "metadata": {},
   "source": [
    "## Data Section"
   ]
  },
  {
   "cell_type": "markdown",
   "metadata": {},
   "source": [
    "For this project, we will use two datasets: the first one is a wikipedia page ('https://fr.wikipedia.org/wiki/Quartiers_de_Marseille#Les_111_grands_quartiers_administratifs') with all the neighborhoods of Marseille including their name and postalcode. We have to scrape this wikipedia page to transform it into a pandas dataframe (Beautifulsoup will be used for this purpose). The second file is a csv file from the French gouvernment website containing all the latitude and longitude of each postalcode ('https://www.data.gouv.fr/fr/datasets/r/dbe8a621-a9c4-4bc3-9cae-be1699c5ff25'). By merging these two datasets, we can have a complete new dataframe with every neighborhood and their latitude/longitude. \n",
    "\n",
    "From this point, we can use Foursquare location data to extract all the different venues in each neighborhoods. Clustering them will allow us to see clearly which cluster has less hotels but still bars and restaurants in the suburb. This will allow us to find the best place to open our hotel. "
   ]
  }
 ],
 "metadata": {
  "kernelspec": {
   "display_name": "Python",
   "language": "python",
   "name": "conda-env-python-py"
  },
  "language_info": {
   "codemirror_mode": {
    "name": "ipython",
    "version": 3
   },
   "file_extension": ".py",
   "mimetype": "text/x-python",
   "name": "python",
   "nbconvert_exporter": "python",
   "pygments_lexer": "ipython3",
   "version": "3.6.10"
  }
 },
 "nbformat": 4,
 "nbformat_minor": 4
}
