{
 "cells": [
  {
   "cell_type": "markdown",
   "metadata": {},
   "source": [
    "# The battle of the Neighborhoods: Report"
   ]
  },
  {
   "cell_type": "markdown",
   "metadata": {},
   "source": [
    "## Introduction/Business problem"
   ]
  },
  {
   "cell_type": "markdown",
   "metadata": {},
   "source": [
    "The city of Marseille in the south of France is one of the most popular French city for the visitors from all around the world. The city offers a large choice of activities: sea, cruise, mountain, hiking, biking, many small typical villages around to visit. On top of that, the bars and restaurants are presents everywhere around from Michelin starred restaurant to fast food including a huge variety of cuisine from all around the world.\n",
    "\n",
    "The city is already well developed regarding tourism. Hotel are presents in mass mostly in the city center. However, many activities are located in the suburb or outside the city. The situation is not ideal because the tourists have to book an hotel in the city center and commute outside the city to the desired place everyday which can be extremely chaotic. In this project, we want to study the perfect location to open a new hotel in the suburb with bars/restaurants around to easily go outside the city for activities and thus avoiding loosing time in the traffic jam. \n"
   ]
  },
  {
   "cell_type": "markdown",
   "metadata": {},
   "source": [
    "## Data Section"
   ]
  },
  {
   "cell_type": "markdown",
   "metadata": {},
   "source": [
    "For this project, we will use two datasets: the first one is a wikipedia page ('https://fr.wikipedia.org/wiki/Quartiers_de_Marseille#Les_111_grands_quartiers_administratifs') with all the neighborhoods of Marseille including their name and postalcode. We have to scrape this wikipedia page to transform it into a pandas dataframe (Beautifulsoup will be used for this purpose). The dataframe looks:\n",
    "\n",
    "<img src=\"fig1.png\" style='width:300px;height:300px'/>\n",
    "\n",
    "\n",
    "The second file is a csv file from the French gouvernment website containing all the latitude and longitude of each postalcode ('https://www.data.gouv.fr/fr/datasets/r/dbe8a621-a9c4-4bc3-9cae-be1699c5ff25'). \n",
    "\n",
    "<img src=\"fig2.png\" style='width:200px;height:170px'/>\n",
    "\n",
    "By merging these two datasets, we can have a complete new dataframe with every neighborhood and their latitude/longitude. \n",
    "\n",
    "<img src=\"fig3.png\" style='width:300px;height:300px'/>\n",
    "\n",
    "From this point, we can use Foursquare location data to extract all the different venues in each neighborhoods. Clustering them will allow us to see clearly which cluster has less hotels but still bars and restaurants in the suburb. This will allow us to find the best place to open our hotel. "
   ]
  },
  {
   "cell_type": "markdown",
   "metadata": {},
   "source": [
    "## Methodology"
   ]
  },
  {
   "cell_type": "markdown",
   "metadata": {},
   "source": [
    "Our main goal is to get the perfect location for opening a new hotel in the suburb of Marseille."
   ]
  },
  {
   "cell_type": "markdown",
   "metadata": {},
   "source": [
    "Using folium we can see where are located the 16 neighborhoods in the city. We can already guess which neighborhoods might be suitable in the suburb for our hotel.\n",
    "\n",
    "<img src=\"fig4.png\" style='width:450px;height:400px'/>"
   ]
  },
  {
   "cell_type": "markdown",
   "metadata": {},
   "source": [
    "From this point, we can request via Foursquare data location all the venues around those neighborhoods in a radius of 2000 and we limit our research to 100 venues per neighborhoods. With this result, we can improve our dataframe such that\n",
    "\n",
    "<img src=\"fig5.png\" style='width:500px;height:250px'/>"
   ]
  },
  {
   "cell_type": "markdown",
   "metadata": {},
   "source": [
    "It is important to sort our data in order to interpret and work with them. We play with the dataframe in order to show the neighborhoods and their coordinates along with the 10 most venues for each neighborhoods. We finally get the following dataframe:\n",
    "\n",
    "\n",
    "<img src=\"fig6.png\" style='width:500px;height:250px'/>"
   ]
  },
  {
   "cell_type": "markdown",
   "metadata": {},
   "source": [
    "It is now time to cluster all these neighborhoods to see what are the main features for each cluster. We use a k-mean algorithm and create 7 clusters around the city. After doing  that, we display to which cluster is assign the neighborhoods in the dataframe:\n",
    "\n",
    "<img src=\"fig7.png\" style='width:500px;height:250px'/>"
   ]
  },
  {
   "cell_type": "markdown",
   "metadata": {},
   "source": [
    "We can now easily display the different clusters with different color.\n",
    "\n",
    "<img src=\"fig8.png\" style='width:450px;height:350px'/>\n"
   ]
  },
  {
   "cell_type": "markdown",
   "metadata": {},
   "source": [
    "We can discard already the red clusters because it includes the city center and we want to avoid this part. If we now focus on the other cluster, one become extremely interesting, namely, the blue one. Let's check the features of this cluster:\n",
    "\n",
    "<img src=\"fig9.png\" style='width:600px;height:200px'/>\n"
   ]
  },
  {
   "cell_type": "markdown",
   "metadata": {},
   "source": [
    "## Results and discussions"
   ]
  },
  {
   "cell_type": "markdown",
   "metadata": {},
   "source": [
    "From the blue cluster and its characteristic, it is clear that this cluster is in the suburb of the city. Many \n",
    "bars/restaurants/supermarkets/store are presents in the area but hotels are quite limited. Indeed, Hotels do not appear in \n",
    "the main 10 venues. The neighborhoods 13 and 14 are then the best location for opening an hotel in the suburb of the city. "
   ]
  },
  {
   "cell_type": "markdown",
   "metadata": {},
   "source": [
    "## Conclusion"
   ]
  },
  {
   "cell_type": "markdown",
   "metadata": {},
   "source": [
    "We have answer our problem using two datasets of the city of Marseille. We found out where to open an hotel\n",
    "in the suburb of Marseille with significant amout of bars/restaurants around for the tourists. This part is also better located than the city center for the people who wants to do activities outside the city. We can improve our study\n",
    "in the future by doing the same job but for each 'block' of the city which will give us a better resolution on where to open the hotel."
   ]
  },
  {
   "cell_type": "code",
   "execution_count": null,
   "metadata": {},
   "outputs": [],
   "source": []
  }
 ],
 "metadata": {
  "kernelspec": {
   "display_name": "Python",
   "language": "python",
   "name": "conda-env-python-py"
  },
  "language_info": {
   "codemirror_mode": {
    "name": "ipython",
    "version": 3
   },
   "file_extension": ".py",
   "mimetype": "text/x-python",
   "name": "python",
   "nbconvert_exporter": "python",
   "pygments_lexer": "ipython3",
   "version": "3.6.10"
  }
 },
 "nbformat": 4,
 "nbformat_minor": 4
}
